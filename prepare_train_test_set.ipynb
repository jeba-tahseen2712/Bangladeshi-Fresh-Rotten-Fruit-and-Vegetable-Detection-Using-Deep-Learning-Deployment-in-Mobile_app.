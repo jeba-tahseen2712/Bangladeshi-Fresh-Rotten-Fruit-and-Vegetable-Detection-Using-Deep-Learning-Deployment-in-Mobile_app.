{
 "cells": [
  {
   "cell_type": "code",
   "execution_count": 1,
   "id": "32c96306",
   "metadata": {},
   "outputs": [],
   "source": [
    "import os\n",
    "import cv2\n",
    "import numpy as np\n",
    "import pandas as pd\n",
    "from tqdm import tqdm\n",
    "import matplotlib.pyplot as plt\n",
    "from tensorflow.keras.preprocessing import image\n",
    "from sklearn.model_selection import train_test_split\n",
    "import csv\n",
    "from PIL import Image\n",
    "import tensorflow as tf\n",
    "from tensorflow.keras import Sequential\n",
    "from tensorflow.keras.layers import Flatten, Dense, Dropout,BatchNormalization,Conv2D,MaxPool2D\n",
    "from tensorflow.keras.optimizers import Adam\n",
    "from tensorflow.keras.preprocessing import image\n",
    "from tensorflow.keras import layers\n",
    "from pathlib import Path"
   ]
  },
  {
   "cell_type": "code",
   "execution_count": 4,
   "id": "9ba52ddb",
   "metadata": {},
   "outputs": [],
   "source": [
    "t_direct = \"dataset/all-images/\"\n",
    "data = pd.read_csv('dataset/excels/train_set.csv')\n",
    "t_h = int(round(data['height'].mean(), 0))\n",
    "t_w = int(round(data['width'].mean(), 0))\n",
    "t_cat = 24"
   ]
  },
  {
   "cell_type": "code",
   "execution_count": 5,
   "id": "793f93aa",
   "metadata": {},
   "outputs": [
    {
     "name": "stderr",
     "output_type": "stream",
     "text": [
      "100%|█████████████████████████████████████████████████████████████████████████████| 4053/4053 [00:32<00:00, 124.04it/s]\n"
     ]
    }
   ],
   "source": [
    "X=[]\n",
    "for i in tqdm(range(data.shape[0])):\n",
    "    path = t_direct+data['fileName'][i]+\".png\"\n",
    "    img = image.load_img(path,target_size=(t_h,t_w,3))\n",
    "    img = image.img_to_array(img)\n",
    "    img = img/255.0\n",
    "    X.append(img)\n",
    "X= np.array(X)\n",
    "head = 'fileName,index'"
   ]
  },
  {
   "cell_type": "code",
   "execution_count": 8,
   "id": "e39bb70f",
   "metadata": {},
   "outputs": [],
   "source": [
    "for i in range(1,(t_cat+1)):\n",
    "    head = head +','+ str(i)\n",
    "main_set =[]\n",
    "main_set.append(head)\n",
    "for i in range(0,len(data['fileName'])):\n",
    "    tmp = data['fileName'][i] +','+str(data['index'][i])\n",
    "    for j in range(1,(t_cat+1)):\n",
    "        s_tmp =''\n",
    "        if data['index'][i] ==j:\n",
    "            s_tmp = s_tmp+',1'\n",
    "        else:\n",
    "            s_tmp = s_tmp+',0'\n",
    "        tmp = tmp+s_tmp\n",
    "    main_set.append(tmp)"
   ]
  },
  {
   "cell_type": "code",
   "execution_count": 9,
   "id": "4eb24f83",
   "metadata": {},
   "outputs": [],
   "source": [
    "with open('dataset/excels/train_set_mod_processed.csv', 'w') as filehandle:\n",
    " for listitem in main_set:\n",
    "     filehandle.write('%s\\n' % listitem)\n",
    "new_data = pd.read_csv('dataset/excels/train_set_mod_processed.csv')"
   ]
  },
  {
   "cell_type": "code",
   "execution_count": 10,
   "id": "e1f6255d",
   "metadata": {},
   "outputs": [
    {
     "data": {
      "text/plain": [
       "(4053, 24)"
      ]
     },
     "execution_count": 10,
     "metadata": {},
     "output_type": "execute_result"
    }
   ],
   "source": [
    "Y = new_data.drop(['fileName','index'],axis=1)\n",
    "Y = Y.to_numpy()\n",
    "Y.shape"
   ]
  },
  {
   "cell_type": "code",
   "execution_count": 11,
   "id": "caf2efb1",
   "metadata": {},
   "outputs": [
    {
     "name": "stdout",
     "output_type": "stream",
     "text": [
      "creating dataset file...\n"
     ]
    }
   ],
   "source": [
    "x_train, x_test,y_train,y_test = train_test_split(X,Y,random_state=0,test_size=0.20)\n",
    "print(\"creating dataset file...\")"
   ]
  },
  {
   "cell_type": "code",
   "execution_count": 12,
   "id": "2204b712",
   "metadata": {},
   "outputs": [
    {
     "name": "stdout",
     "output_type": "stream",
     "text": [
      "Dataset ready for traing...!\n"
     ]
    }
   ],
   "source": [
    "np.savez_compressed('dataset/train_test_set/compressed_processed_train_test_set_01.npz',\n",
    "x_train=x_train, x_test=x_test,y_train=y_train,y_test=y_test)\n",
    "\n",
    "print(\"Dataset ready for traing...!\")"
   ]
  },
  {
   "cell_type": "code",
   "execution_count": null,
   "id": "2fc1d0a2",
   "metadata": {},
   "outputs": [],
   "source": []
  }
 ],
 "metadata": {
  "kernelspec": {
   "display_name": "Python 3 (ipykernel)",
   "language": "python",
   "name": "python3"
  },
  "language_info": {
   "codemirror_mode": {
    "name": "ipython",
    "version": 3
   },
   "file_extension": ".py",
   "mimetype": "text/x-python",
   "name": "python",
   "nbconvert_exporter": "python",
   "pygments_lexer": "ipython3",
   "version": "3.8.0"
  }
 },
 "nbformat": 4,
 "nbformat_minor": 5
}
