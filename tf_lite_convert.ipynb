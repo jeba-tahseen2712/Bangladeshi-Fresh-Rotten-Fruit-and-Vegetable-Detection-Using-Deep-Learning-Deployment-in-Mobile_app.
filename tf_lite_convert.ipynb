{
 "cells": [
  {
   "cell_type": "code",
   "execution_count": 8,
   "id": "282e383b",
   "metadata": {},
   "outputs": [],
   "source": [
    "import os\n",
    "import tensorflow as tf\n",
    "import pathlib"
   ]
  },
  {
   "cell_type": "code",
   "execution_count": 9,
   "id": "d76b427b",
   "metadata": {},
   "outputs": [],
   "source": [
    "export_dir = 'models/new_train_model_epoch_100_batch_10'"
   ]
  },
  {
   "cell_type": "code",
   "execution_count": 11,
   "id": "f9303b1d",
   "metadata": {},
   "outputs": [
    {
     "data": {
      "text/plain": [
       "10918464"
      ]
     },
     "execution_count": 11,
     "metadata": {},
     "output_type": "execute_result"
    }
   ],
   "source": [
    "converter = tf.lite.TFLiteConverter.from_saved_model(export_dir)\n",
    "tflite_model = converter.convert()\n",
    "#save model \n",
    "tflite_model_files = pathlib.Path('models/tflites/save_model_tflite.tflite')\n",
    "tflite_model_files.write_bytes(tflite_model)"
   ]
  },
  {
   "cell_type": "code",
   "execution_count": null,
   "id": "857808cb",
   "metadata": {},
   "outputs": [],
   "source": []
  }
 ],
 "metadata": {
  "kernelspec": {
   "display_name": "Python 3 (ipykernel)",
   "language": "python",
   "name": "python3"
  },
  "language_info": {
   "codemirror_mode": {
    "name": "ipython",
    "version": 3
   },
   "file_extension": ".py",
   "mimetype": "text/x-python",
   "name": "python",
   "nbconvert_exporter": "python",
   "pygments_lexer": "ipython3",
   "version": "3.8.0"
  }
 },
 "nbformat": 4,
 "nbformat_minor": 5
}
