{
 "cells": [
  {
   "cell_type": "code",
   "execution_count": 1,
   "id": "6424207b",
   "metadata": {},
   "outputs": [],
   "source": [
    "import tensorflow as tf\n",
    "from tensorflow.keras import Sequential\n",
    "from tensorflow.keras.layers import Flatten, Dense, Dropout,BatchNormalization,Conv2D,MaxPool2D,MaxPooling2D\n",
    "from tensorflow.keras.optimizers import Adam\n",
    "from tensorflow.keras.preprocessing import image\n",
    "import numpy as np\n",
    "import pandas as pd\n",
    "import matplotlib.pyplot as plt\n",
    "from tqdm import tqdm\n",
    "from tensorflow.keras import layers\n",
    "import datetime"
   ]
  },
  {
   "cell_type": "code",
   "execution_count": 2,
   "id": "d95fadb7",
   "metadata": {},
   "outputs": [],
   "source": [
    "%load_ext tensorboard"
   ]
  },
  {
   "cell_type": "code",
   "execution_count": 3,
   "id": "009508be",
   "metadata": {},
   "outputs": [],
   "source": [
    "data = np.load('dataset/train_test_set/compressed_processed_train_test_set_01.npz')\n",
    "x_train = data['x_train']\n",
    "x_test = data['x_test']\n",
    "y_train = data['y_train']\n",
    "y_test = data['y_test']"
   ]
  },
  {
   "cell_type": "code",
   "execution_count": 4,
   "id": "3cdd9af7",
   "metadata": {},
   "outputs": [],
   "source": [
    "model = Sequential()\n",
    "model.add(Conv2D(16,(3,3),activation='relu',input_shape=x_train[0].shape,name='block1_conv1'))\n",
    "model.add(Conv2D(16,(3,3),activation='relu'))\n",
    "model.add(BatchNormalization())\n",
    "model.add(MaxPooling2D((2, 2), strides=(2, 2), name='block1_pool'))\n",
    "model.add(Dropout(0.2))\n",
    "model.add(Conv2D(32, (3, 3), activation='relu', padding='same', name='block2_conv1'))\n",
    "model.add(Conv2D(32, (3, 3), activation='relu', padding='same', name='block2_conv2'))\n",
    "model.add(BatchNormalization())\n",
    "model.add(MaxPooling2D((2, 2), strides=(2, 2), name='block2_pool'))\n",
    "model.add(Dropout(0.2))\n",
    "model.add(Conv2D(64, (3, 3), activation='relu', padding='same', name='block3_conv1'))\n",
    "model.add(Conv2D(64, (3, 3), activation='relu', padding='same', name='block3_conv2'))\n",
    "model.add(Conv2D(64, (3, 3), activation='relu', padding='same', name='block3_conv3'))\n",
    "model.add(BatchNormalization())\n",
    "model.add(MaxPooling2D((2, 2), strides=(2, 2), name='block3_pool'))\n",
    "model.add(Dropout(0.2))\n",
    "model.add(Conv2D(128, (3, 3), activation='relu', padding='same', name='block4_conv1'))\n",
    "model.add(Conv2D(128, (3, 3), activation='relu', padding='same', name='block4_conv2'))\n",
    "model.add(Conv2D(128, (3, 3), activation='relu', padding='same', name='block4_conv3'))\n",
    "model.add(BatchNormalization())\n",
    "model.add(MaxPooling2D((2, 2), strides=(2, 2), name='block4_pool'))\n",
    "model.add(Dropout(0.2))\n",
    "model.add(Conv2D(256, (3, 3), activation='relu', padding='same', name='block5_conv1'))\n",
    "model.add(Conv2D(256, (3, 3), activation='relu', padding='same', name='block5_conv2'))\n",
    "model.add(Conv2D(128, (3, 3), activation='relu', padding='same', name='block5_conv3'))\n",
    "model.add(MaxPooling2D((2, 2), strides=(2, 2), name='block5_pool'))\n",
    "model.add(Flatten())\n",
    "model.add(Dense(64,activation='relu'))\n",
    "model.add(BatchNormalization())\n",
    "model.add(Dropout(0.5))\n",
    "model.add(Dense(y_train.shape[1],activation='sigmoid'))"
   ]
  },
  {
   "cell_type": "code",
   "execution_count": 5,
   "id": "629453be",
   "metadata": {},
   "outputs": [
    {
     "name": "stdout",
     "output_type": "stream",
     "text": [
      "Model: \"sequential\"\n",
      "_________________________________________________________________\n",
      "Layer (type)                 Output Shape              Param #   \n",
      "=================================================================\n",
      "block1_conv1 (Conv2D)        (None, 427, 344, 16)      448       \n",
      "_________________________________________________________________\n",
      "conv2d (Conv2D)              (None, 425, 342, 16)      2320      \n",
      "_________________________________________________________________\n",
      "batch_normalization (BatchNo (None, 425, 342, 16)      64        \n",
      "_________________________________________________________________\n",
      "block1_pool (MaxPooling2D)   (None, 212, 171, 16)      0         \n",
      "_________________________________________________________________\n",
      "dropout (Dropout)            (None, 212, 171, 16)      0         \n",
      "_________________________________________________________________\n",
      "block2_conv1 (Conv2D)        (None, 212, 171, 32)      4640      \n",
      "_________________________________________________________________\n",
      "block2_conv2 (Conv2D)        (None, 212, 171, 32)      9248      \n",
      "_________________________________________________________________\n",
      "batch_normalization_1 (Batch (None, 212, 171, 32)      128       \n",
      "_________________________________________________________________\n",
      "block2_pool (MaxPooling2D)   (None, 106, 85, 32)       0         \n",
      "_________________________________________________________________\n",
      "dropout_1 (Dropout)          (None, 106, 85, 32)       0         \n",
      "_________________________________________________________________\n",
      "block3_conv1 (Conv2D)        (None, 106, 85, 64)       18496     \n",
      "_________________________________________________________________\n",
      "block3_conv2 (Conv2D)        (None, 106, 85, 64)       36928     \n",
      "_________________________________________________________________\n",
      "block3_conv3 (Conv2D)        (None, 106, 85, 64)       36928     \n",
      "_________________________________________________________________\n",
      "batch_normalization_2 (Batch (None, 106, 85, 64)       256       \n",
      "_________________________________________________________________\n",
      "block3_pool (MaxPooling2D)   (None, 53, 42, 64)        0         \n",
      "_________________________________________________________________\n",
      "dropout_2 (Dropout)          (None, 53, 42, 64)        0         \n",
      "_________________________________________________________________\n",
      "block4_conv1 (Conv2D)        (None, 53, 42, 128)       73856     \n",
      "_________________________________________________________________\n",
      "block4_conv2 (Conv2D)        (None, 53, 42, 128)       147584    \n",
      "_________________________________________________________________\n",
      "block4_conv3 (Conv2D)        (None, 53, 42, 128)       147584    \n",
      "_________________________________________________________________\n",
      "batch_normalization_3 (Batch (None, 53, 42, 128)       512       \n",
      "_________________________________________________________________\n",
      "block4_pool (MaxPooling2D)   (None, 26, 21, 128)       0         \n",
      "_________________________________________________________________\n",
      "dropout_3 (Dropout)          (None, 26, 21, 128)       0         \n",
      "_________________________________________________________________\n",
      "block5_conv1 (Conv2D)        (None, 26, 21, 256)       295168    \n",
      "_________________________________________________________________\n",
      "block5_conv2 (Conv2D)        (None, 26, 21, 256)       590080    \n",
      "_________________________________________________________________\n",
      "block5_conv3 (Conv2D)        (None, 26, 21, 128)       295040    \n",
      "_________________________________________________________________\n",
      "block5_pool (MaxPooling2D)   (None, 13, 10, 128)       0         \n",
      "_________________________________________________________________\n",
      "flatten (Flatten)            (None, 16640)             0         \n",
      "_________________________________________________________________\n",
      "dense (Dense)                (None, 64)                1065024   \n",
      "_________________________________________________________________\n",
      "batch_normalization_4 (Batch (None, 64)                256       \n",
      "_________________________________________________________________\n",
      "dropout_4 (Dropout)          (None, 64)                0         \n",
      "_________________________________________________________________\n",
      "dense_1 (Dense)              (None, 24)                1560      \n",
      "=================================================================\n",
      "Total params: 2,726,120\n",
      "Trainable params: 2,725,512\n",
      "Non-trainable params: 608\n",
      "_________________________________________________________________\n"
     ]
    }
   ],
   "source": [
    "model.summary()"
   ]
  },
  {
   "cell_type": "code",
   "execution_count": 6,
   "id": "b17ccf12",
   "metadata": {},
   "outputs": [],
   "source": [
    "batch_size =10\n",
    "epoch = 100"
   ]
  },
  {
   "cell_type": "code",
   "execution_count": 7,
   "id": "282a0785",
   "metadata": {},
   "outputs": [],
   "source": [
    "model.compile(optimizer='adam',loss='binary_crossentropy',metrics=['accuracy'])"
   ]
  },
  {
   "cell_type": "code",
   "execution_count": 8,
   "id": "76027769",
   "metadata": {},
   "outputs": [],
   "source": [
    "log_dir = \"logs/fit/\" + datetime.datetime.now().strftime(\"%Y%m%d-%H%M%S\")\n",
    "tensorboard_callback = tf.keras.callbacks.TensorBoard(log_dir=log_dir, histogram_freq=1)"
   ]
  },
  {
   "cell_type": "code",
   "execution_count": 9,
   "id": "9fb10b89",
   "metadata": {},
   "outputs": [
    {
     "name": "stdout",
     "output_type": "stream",
     "text": [
      "Epoch 1/100\n",
      "  1/325 [..............................] - ETA: 0s - loss: 0.8942 - accuracy: 0.0000e+00WARNING:tensorflow:From D:\\Research\\Fruit Desease\\fruitenv\\lib\\site-packages\\tensorflow\\python\\ops\\summary_ops_v2.py:1277: stop (from tensorflow.python.eager.profiler) is deprecated and will be removed after 2020-07-01.\n",
      "Instructions for updating:\n",
      "use `tf.profiler.experimental.stop` instead.\n",
      "  2/325 [..............................] - ETA: 1:47 - loss: 0.8664 - accuracy: 0.1000  WARNING:tensorflow:Callbacks method `on_train_batch_end` is slow compared to the batch time (batch time: 0.1314s vs `on_train_batch_end` time: 0.5352s). Check your callbacks.\n",
      "325/325 [==============================] - 39s 119ms/step - loss: 0.3945 - accuracy: 0.2961 - val_loss: 0.1899 - val_accuracy: 0.0506\n",
      "Epoch 2/100\n",
      "325/325 [==============================] - 37s 114ms/step - loss: 0.1230 - accuracy: 0.4522 - val_loss: 0.1886 - val_accuracy: 0.2454\n",
      "Epoch 3/100\n",
      "325/325 [==============================] - 36s 112ms/step - loss: 0.1134 - accuracy: 0.4759 - val_loss: 0.2248 - val_accuracy: 0.1307\n",
      "Epoch 4/100\n",
      "325/325 [==============================] - 36s 111ms/step - loss: 0.1101 - accuracy: 0.4957 - val_loss: 0.1080 - val_accuracy: 0.5327\n",
      "Epoch 5/100\n",
      "325/325 [==============================] - 37s 112ms/step - loss: 0.1069 - accuracy: 0.5012 - val_loss: 0.1032 - val_accuracy: 0.5734\n",
      "Epoch 6/100\n",
      "325/325 [==============================] - 37s 113ms/step - loss: 0.1035 - accuracy: 0.5176 - val_loss: 0.0993 - val_accuracy: 0.5586\n",
      "Epoch 7/100\n",
      "325/325 [==============================] - 36s 112ms/step - loss: 0.1018 - accuracy: 0.5207 - val_loss: 0.1177 - val_accuracy: 0.4649\n",
      "Epoch 8/100\n",
      "325/325 [==============================] - 36s 112ms/step - loss: 0.0989 - accuracy: 0.5447 - val_loss: 0.0989 - val_accuracy: 0.5721\n",
      "Epoch 9/100\n",
      "325/325 [==============================] - 36s 111ms/step - loss: 0.1001 - accuracy: 0.5404 - val_loss: 0.1096 - val_accuracy: 0.5364\n",
      "Epoch 10/100\n",
      "325/325 [==============================] - 37s 113ms/step - loss: 0.0958 - accuracy: 0.5592 - val_loss: 0.1288 - val_accuracy: 0.4920\n",
      "Epoch 11/100\n",
      "325/325 [==============================] - 37s 115ms/step - loss: 0.0967 - accuracy: 0.5645 - val_loss: 0.1073 - val_accuracy: 0.5709\n",
      "Epoch 12/100\n",
      "325/325 [==============================] - 36s 111ms/step - loss: 0.0945 - accuracy: 0.5725 - val_loss: 0.0805 - val_accuracy: 0.6067\n",
      "Epoch 13/100\n",
      "325/325 [==============================] - 36s 110ms/step - loss: 0.0938 - accuracy: 0.5842 - val_loss: 34.2634 - val_accuracy: 0.4735\n",
      "Epoch 14/100\n",
      "325/325 [==============================] - 36s 111ms/step - loss: 0.0915 - accuracy: 0.5904 - val_loss: 4.2581 - val_accuracy: 0.6301\n",
      "Epoch 15/100\n",
      "325/325 [==============================] - 37s 114ms/step - loss: 0.0898 - accuracy: 0.6030 - val_loss: 0.0752 - val_accuracy: 0.6646\n",
      "Epoch 16/100\n",
      "325/325 [==============================] - 36s 110ms/step - loss: 0.0886 - accuracy: 0.6070 - val_loss: 0.0694 - val_accuracy: 0.6646\n",
      "Epoch 17/100\n",
      "325/325 [==============================] - 36s 111ms/step - loss: 0.0883 - accuracy: 0.6086 - val_loss: 0.8396 - val_accuracy: 0.5635\n",
      "Epoch 18/100\n",
      "325/325 [==============================] - 36s 110ms/step - loss: 0.0868 - accuracy: 0.6197 - val_loss: 0.0744 - val_accuracy: 0.6473\n",
      "Epoch 19/100\n",
      "325/325 [==============================] - 36s 112ms/step - loss: 0.0869 - accuracy: 0.6126 - val_loss: 0.0790 - val_accuracy: 0.6375\n",
      "Epoch 20/100\n",
      "325/325 [==============================] - 37s 113ms/step - loss: 0.0856 - accuracy: 0.6249 - val_loss: 0.0729 - val_accuracy: 0.6535\n",
      "Epoch 21/100\n",
      "325/325 [==============================] - 36s 110ms/step - loss: 0.0854 - accuracy: 0.6243 - val_loss: 2.4916 - val_accuracy: 0.6868\n",
      "Epoch 22/100\n",
      "325/325 [==============================] - 36s 111ms/step - loss: 0.0847 - accuracy: 0.6354 - val_loss: 0.5543 - val_accuracy: 0.6658\n",
      "Epoch 23/100\n",
      "325/325 [==============================] - 37s 113ms/step - loss: 0.0824 - accuracy: 0.6456 - val_loss: 0.0799 - val_accuracy: 0.6597\n",
      "Epoch 24/100\n",
      "325/325 [==============================] - 37s 115ms/step - loss: 0.0814 - accuracy: 0.6539 - val_loss: 0.0642 - val_accuracy: 0.7152\n",
      "Epoch 25/100\n",
      "325/325 [==============================] - 37s 115ms/step - loss: 0.0826 - accuracy: 0.6416 - val_loss: 0.0643 - val_accuracy: 0.6930\n",
      "Epoch 26/100\n",
      "325/325 [==============================] - 36s 111ms/step - loss: 0.0787 - accuracy: 0.6641 - val_loss: 0.0649 - val_accuracy: 0.7016\n",
      "Epoch 27/100\n",
      "325/325 [==============================] - 36s 111ms/step - loss: 0.0758 - accuracy: 0.6774 - val_loss: 0.0712 - val_accuracy: 0.6572\n",
      "Epoch 28/100\n",
      "325/325 [==============================] - 36s 111ms/step - loss: 0.0770 - accuracy: 0.6764 - val_loss: 0.0708 - val_accuracy: 0.6745\n",
      "Epoch 29/100\n",
      "325/325 [==============================] - 36s 110ms/step - loss: 0.0756 - accuracy: 0.6817 - val_loss: 0.0612 - val_accuracy: 0.7275\n",
      "Epoch 30/100\n",
      "325/325 [==============================] - 36s 110ms/step - loss: 0.0744 - accuracy: 0.6919 - val_loss: 0.0612 - val_accuracy: 0.7226\n",
      "Epoch 31/100\n",
      "325/325 [==============================] - 36s 111ms/step - loss: 0.0737 - accuracy: 0.6956 - val_loss: 0.0741 - val_accuracy: 0.6720\n",
      "Epoch 32/100\n",
      "325/325 [==============================] - 36s 110ms/step - loss: 0.0713 - accuracy: 0.7070 - val_loss: 0.0804 - val_accuracy: 0.6547\n",
      "Epoch 33/100\n",
      "325/325 [==============================] - 36s 112ms/step - loss: 0.0698 - accuracy: 0.7239 - val_loss: 0.0671 - val_accuracy: 0.7102\n",
      "Epoch 34/100\n",
      "325/325 [==============================] - 38s 116ms/step - loss: 0.0673 - accuracy: 0.7360 - val_loss: 0.0643 - val_accuracy: 0.7164\n",
      "Epoch 35/100\n",
      "325/325 [==============================] - 38s 116ms/step - loss: 0.0679 - accuracy: 0.7283 - val_loss: 0.0689 - val_accuracy: 0.7016\n",
      "Epoch 36/100\n",
      "325/325 [==============================] - 38s 116ms/step - loss: 0.0664 - accuracy: 0.7446 - val_loss: 0.0579 - val_accuracy: 0.7645\n",
      "Epoch 37/100\n",
      "325/325 [==============================] - 36s 111ms/step - loss: 0.0645 - accuracy: 0.7449 - val_loss: 0.0606 - val_accuracy: 0.7596\n",
      "Epoch 38/100\n",
      "325/325 [==============================] - 36s 110ms/step - loss: 0.0637 - accuracy: 0.7588 - val_loss: 0.0592 - val_accuracy: 0.7546\n",
      "Epoch 39/100\n",
      "325/325 [==============================] - 36s 111ms/step - loss: 0.0604 - accuracy: 0.7773 - val_loss: 0.0614 - val_accuracy: 0.7263\n",
      "Epoch 40/100\n",
      "325/325 [==============================] - 36s 110ms/step - loss: 0.0616 - accuracy: 0.7665 - val_loss: 0.0568 - val_accuracy: 0.7670\n",
      "Epoch 41/100\n",
      "325/325 [==============================] - 37s 112ms/step - loss: 0.0610 - accuracy: 0.7650 - val_loss: 0.0611 - val_accuracy: 0.7608\n",
      "Epoch 42/100\n",
      "325/325 [==============================] - 35s 109ms/step - loss: 0.0590 - accuracy: 0.7835 - val_loss: 0.0569 - val_accuracy: 0.7744\n",
      "Epoch 43/100\n",
      "325/325 [==============================] - 35s 109ms/step - loss: 0.0584 - accuracy: 0.7822 - val_loss: 0.1983 - val_accuracy: 0.7682\n",
      "Epoch 44/100\n",
      "325/325 [==============================] - 35s 109ms/step - loss: 0.0554 - accuracy: 0.8060 - val_loss: 0.0552 - val_accuracy: 0.7756\n",
      "Epoch 45/100\n",
      "325/325 [==============================] - 35s 108ms/step - loss: 0.0557 - accuracy: 0.8029 - val_loss: 0.0729 - val_accuracy: 0.6954\n",
      "Epoch 46/100\n",
      "325/325 [==============================] - 35s 109ms/step - loss: 0.0561 - accuracy: 0.8029 - val_loss: 0.0601 - val_accuracy: 0.7546\n",
      "Epoch 47/100\n",
      "325/325 [==============================] - 35s 108ms/step - loss: 0.0538 - accuracy: 0.8189 - val_loss: 0.0538 - val_accuracy: 0.7867\n",
      "Epoch 48/100\n",
      "325/325 [==============================] - 35s 109ms/step - loss: 0.0530 - accuracy: 0.8233 - val_loss: 0.0566 - val_accuracy: 0.7608\n",
      "Epoch 49/100\n",
      "325/325 [==============================] - 35s 109ms/step - loss: 0.0522 - accuracy: 0.8174 - val_loss: 0.0614 - val_accuracy: 0.7744\n",
      "Epoch 50/100\n",
      "325/325 [==============================] - 35s 108ms/step - loss: 0.0492 - accuracy: 0.8476 - val_loss: 0.0621 - val_accuracy: 0.7620\n",
      "Epoch 51/100\n",
      "325/325 [==============================] - 35s 109ms/step - loss: 0.0496 - accuracy: 0.8310 - val_loss: 0.0536 - val_accuracy: 0.7781\n",
      "Epoch 52/100\n"
     ]
    },
    {
     "name": "stdout",
     "output_type": "stream",
     "text": [
      "325/325 [==============================] - 35s 108ms/step - loss: 0.0474 - accuracy: 0.8486 - val_loss: 0.0554 - val_accuracy: 0.7694\n",
      "Epoch 53/100\n",
      "325/325 [==============================] - 35s 109ms/step - loss: 0.0468 - accuracy: 0.8535 - val_loss: 0.0550 - val_accuracy: 0.7818\n",
      "Epoch 54/100\n",
      "325/325 [==============================] - 35s 109ms/step - loss: 0.0496 - accuracy: 0.8368 - val_loss: 0.0534 - val_accuracy: 0.7916\n",
      "Epoch 55/100\n",
      "325/325 [==============================] - 35s 109ms/step - loss: 0.0446 - accuracy: 0.8711 - val_loss: 0.0571 - val_accuracy: 0.7830\n",
      "Epoch 56/100\n",
      "325/325 [==============================] - 35s 108ms/step - loss: 0.0457 - accuracy: 0.8643 - val_loss: 0.4903 - val_accuracy: 0.7818\n",
      "Epoch 57/100\n",
      "325/325 [==============================] - 35s 109ms/step - loss: 0.0438 - accuracy: 0.8705 - val_loss: 0.0602 - val_accuracy: 0.7559\n",
      "Epoch 58/100\n",
      "325/325 [==============================] - 35s 108ms/step - loss: 0.0421 - accuracy: 0.8763 - val_loss: 0.0627 - val_accuracy: 0.7497\n",
      "Epoch 59/100\n",
      "325/325 [==============================] - 35s 108ms/step - loss: 0.0427 - accuracy: 0.8732 - val_loss: 0.0613 - val_accuracy: 0.7522\n",
      "Epoch 60/100\n",
      "325/325 [==============================] - 35s 109ms/step - loss: 0.0425 - accuracy: 0.8735 - val_loss: 0.0548 - val_accuracy: 0.7965\n",
      "Epoch 61/100\n",
      "325/325 [==============================] - 35s 109ms/step - loss: 0.0404 - accuracy: 0.8902 - val_loss: 0.0572 - val_accuracy: 0.7719\n",
      "Epoch 62/100\n",
      "325/325 [==============================] - 35s 108ms/step - loss: 0.0429 - accuracy: 0.8766 - val_loss: 0.0564 - val_accuracy: 0.7842\n",
      "Epoch 63/100\n",
      "325/325 [==============================] - 35s 109ms/step - loss: 0.0393 - accuracy: 0.8868 - val_loss: 0.0593 - val_accuracy: 0.7645\n",
      "Epoch 64/100\n",
      "325/325 [==============================] - 36s 111ms/step - loss: 0.0397 - accuracy: 0.8896 - val_loss: 1.3878 - val_accuracy: 0.7793\n",
      "Epoch 65/100\n",
      "325/325 [==============================] - 36s 112ms/step - loss: 0.0387 - accuracy: 0.9007 - val_loss: 0.0595 - val_accuracy: 0.7867\n",
      "Epoch 66/100\n",
      "325/325 [==============================] - 36s 110ms/step - loss: 0.0368 - accuracy: 0.9059 - val_loss: 0.0577 - val_accuracy: 0.7891\n",
      "Epoch 67/100\n",
      "325/325 [==============================] - 37s 115ms/step - loss: 0.0369 - accuracy: 0.9062 - val_loss: 0.0599 - val_accuracy: 0.7879\n",
      "Epoch 68/100\n",
      "325/325 [==============================] - 38s 116ms/step - loss: 0.0364 - accuracy: 0.9115 - val_loss: 0.0587 - val_accuracy: 0.7965\n",
      "Epoch 69/100\n",
      "325/325 [==============================] - 37s 114ms/step - loss: 0.0355 - accuracy: 0.9143 - val_loss: 0.0610 - val_accuracy: 0.7793\n",
      "Epoch 70/100\n",
      "325/325 [==============================] - 37s 113ms/step - loss: 0.0372 - accuracy: 0.9022 - val_loss: 0.0848 - val_accuracy: 0.7805\n",
      "Epoch 71/100\n",
      "325/325 [==============================] - 37s 113ms/step - loss: 0.0372 - accuracy: 0.9056 - val_loss: 0.0583 - val_accuracy: 0.7891\n",
      "Epoch 72/100\n",
      "325/325 [==============================] - 37s 113ms/step - loss: 0.0349 - accuracy: 0.9127 - val_loss: 0.0597 - val_accuracy: 0.7830\n",
      "Epoch 73/100\n",
      "325/325 [==============================] - 39s 119ms/step - loss: 0.0349 - accuracy: 0.9155 - val_loss: 1.4469 - val_accuracy: 0.7781\n",
      "Epoch 74/100\n",
      "325/325 [==============================] - 39s 121ms/step - loss: 0.0354 - accuracy: 0.9112 - val_loss: 0.0686 - val_accuracy: 0.7546\n",
      "Epoch 75/100\n",
      "325/325 [==============================] - 39s 120ms/step - loss: 0.0347 - accuracy: 0.9186 - val_loss: 0.0634 - val_accuracy: 0.7756\n",
      "Epoch 76/100\n",
      "325/325 [==============================] - 39s 120ms/step - loss: 0.0329 - accuracy: 0.9269 - val_loss: 0.0648 - val_accuracy: 0.7756\n",
      "Epoch 77/100\n",
      "325/325 [==============================] - 39s 121ms/step - loss: 0.0372 - accuracy: 0.9035 - val_loss: 0.2773 - val_accuracy: 0.7855\n",
      "Epoch 78/100\n",
      "325/325 [==============================] - 39s 120ms/step - loss: 0.0339 - accuracy: 0.9167 - val_loss: 0.6246 - val_accuracy: 0.7904\n",
      "Epoch 79/100\n",
      "325/325 [==============================] - 39s 120ms/step - loss: 0.0339 - accuracy: 0.9266 - val_loss: 0.3293 - val_accuracy: 0.7633\n",
      "Epoch 80/100\n",
      "325/325 [==============================] - 39s 121ms/step - loss: 0.0319 - accuracy: 0.9340 - val_loss: 0.0607 - val_accuracy: 0.7830\n",
      "Epoch 81/100\n",
      "325/325 [==============================] - 39s 121ms/step - loss: 0.0334 - accuracy: 0.9263 - val_loss: 0.2917 - val_accuracy: 0.7744\n",
      "Epoch 82/100\n",
      "325/325 [==============================] - 39s 120ms/step - loss: 0.0316 - accuracy: 0.9272 - val_loss: 0.0619 - val_accuracy: 0.7953\n",
      "Epoch 83/100\n",
      "325/325 [==============================] - 39s 120ms/step - loss: 0.0310 - accuracy: 0.9315 - val_loss: 0.0603 - val_accuracy: 0.7916\n",
      "Epoch 84/100\n",
      "325/325 [==============================] - 39s 120ms/step - loss: 0.0299 - accuracy: 0.9374 - val_loss: 1.1238 - val_accuracy: 0.7818\n",
      "Epoch 85/100\n",
      "325/325 [==============================] - 37s 114ms/step - loss: 0.0330 - accuracy: 0.9291 - val_loss: 0.0615 - val_accuracy: 0.7879\n",
      "Epoch 86/100\n",
      "325/325 [==============================] - 37s 115ms/step - loss: 0.0317 - accuracy: 0.9300 - val_loss: 0.0609 - val_accuracy: 0.7830\n",
      "Epoch 87/100\n",
      "325/325 [==============================] - 36s 112ms/step - loss: 0.0321 - accuracy: 0.9275 - val_loss: 1.6404 - val_accuracy: 0.7941\n",
      "Epoch 88/100\n",
      "325/325 [==============================] - 37s 114ms/step - loss: 0.0306 - accuracy: 0.9263 - val_loss: 0.0898 - val_accuracy: 0.6954\n",
      "Epoch 89/100\n",
      "325/325 [==============================] - 37s 114ms/step - loss: 0.0317 - accuracy: 0.9284 - val_loss: 0.0666 - val_accuracy: 0.7768\n",
      "Epoch 90/100\n",
      "325/325 [==============================] - 38s 118ms/step - loss: 0.0300 - accuracy: 0.9328 - val_loss: 0.0617 - val_accuracy: 0.7928\n",
      "Epoch 91/100\n",
      "325/325 [==============================] - 36s 112ms/step - loss: 0.0292 - accuracy: 0.9414 - val_loss: 0.0691 - val_accuracy: 0.7670\n",
      "Epoch 92/100\n",
      "325/325 [==============================] - 37s 113ms/step - loss: 0.0277 - accuracy: 0.9488 - val_loss: 5.8902 - val_accuracy: 0.7731\n",
      "Epoch 93/100\n",
      "325/325 [==============================] - 37s 113ms/step - loss: 0.0292 - accuracy: 0.9405 - val_loss: 0.0693 - val_accuracy: 0.7818\n",
      "Epoch 94/100\n",
      "325/325 [==============================] - 37s 114ms/step - loss: 0.0287 - accuracy: 0.9445 - val_loss: 0.0770 - val_accuracy: 0.7411\n",
      "Epoch 95/100\n",
      "325/325 [==============================] - 38s 116ms/step - loss: 0.0291 - accuracy: 0.9451 - val_loss: 0.1289 - val_accuracy: 0.7941\n",
      "Epoch 96/100\n",
      "325/325 [==============================] - 38s 116ms/step - loss: 0.0268 - accuracy: 0.9439 - val_loss: 0.0664 - val_accuracy: 0.7818\n",
      "Epoch 97/100\n",
      "325/325 [==============================] - 37s 113ms/step - loss: 0.0276 - accuracy: 0.9476 - val_loss: 0.0648 - val_accuracy: 0.7793\n",
      "Epoch 98/100\n",
      "325/325 [==============================] - 36s 112ms/step - loss: 0.0269 - accuracy: 0.9525 - val_loss: 0.0701 - val_accuracy: 0.7768\n",
      "Epoch 99/100\n",
      "325/325 [==============================] - 38s 116ms/step - loss: 0.0297 - accuracy: 0.9395 - val_loss: 0.0665 - val_accuracy: 0.7941\n",
      "Epoch 100/100\n",
      "325/325 [==============================] - 37s 114ms/step - loss: 0.0300 - accuracy: 0.9318 - val_loss: 0.0654 - val_accuracy: 0.7879\n"
     ]
    }
   ],
   "source": [
    "history = model.fit(x_train,y_train,epochs=epoch, batch_size=batch_size,validation_data=(x_test,y_test),callbacks=[tensorboard_callback])\n"
   ]
  },
  {
   "cell_type": "code",
   "execution_count": 10,
   "id": "d3c861db",
   "metadata": {},
   "outputs": [
    {
     "name": "stdout",
     "output_type": "stream",
     "text": [
      "WARNING:tensorflow:From D:\\Research\\Fruit Desease\\fruitenv\\lib\\site-packages\\tensorflow\\python\\training\\tracking\\tracking.py:111: Model.state_updates (from tensorflow.python.keras.engine.training) is deprecated and will be removed in a future version.\n",
      "Instructions for updating:\n",
      "This property should not be used in TensorFlow 2.0, as updates are applied automatically.\n",
      "WARNING:tensorflow:From D:\\Research\\Fruit Desease\\fruitenv\\lib\\site-packages\\tensorflow\\python\\training\\tracking\\tracking.py:111: Layer.updates (from tensorflow.python.keras.engine.base_layer) is deprecated and will be removed in a future version.\n",
      "Instructions for updating:\n",
      "This property should not be used in TensorFlow 2.0, as updates are applied automatically.\n",
      "INFO:tensorflow:Assets written to: models/new_train_model_epoch_100_batch_10\\assets\n"
     ]
    }
   ],
   "source": [
    "model.save('models/new_train_model_epoch_'+str(epoch)+'_batch_'+str(batch_size)+'')"
   ]
  },
  {
   "cell_type": "code",
   "execution_count": 11,
   "id": "3d0ced7b",
   "metadata": {},
   "outputs": [
    {
     "data": {
      "image/png": "[encoded data removed]",
      "text/plain": [
       "<Figure size 432x288 with 1 Axes>"
      ]
     },
     "metadata": {
      "needs_background": "light"
     },
     "output_type": "display_data"
    }
   ],
   "source": [
    "plt.figure(1)\n",
    "# summarize history for accuracy\n",
    "epoch_range = range(1,epoch+1)\n",
    "plt.subplot(211)\n",
    "plt.plot(epoch_range,history.history['accuracy'])\n",
    "plt.plot(epoch_range,history.history['val_accuracy'])\n",
    "plt.title('model accuracy')\n",
    "plt.ylabel('accuracy')\n",
    "plt.xlabel('epoch-'+str(epoch))\n",
    "plt.legend(['accuracy', 'val_accuracy'], loc='upper left')\n",
    "plt.savefig('logs/model_accuracy-'+'epoch-'+str(epoch)+'-'+'batch_size-'+str(batch_size)+'.png')\n",
    "plt.show()"
   ]
  },
  {
   "cell_type": "code",
   "execution_count": 12,
   "id": "8ea2f740",
   "metadata": {},
   "outputs": [
    {
     "data": {
      "image/png": "[encoded data removed]",
      "text/plain": [
       "<Figure size 432x288 with 1 Axes>"
      ]
     },
     "metadata": {
      "needs_background": "light"
     },
     "output_type": "display_data"
    }
   ],
   "source": [
    "plt.plot(epoch_range,history.history['loss'])\n",
    "plt.plot(epoch_range,history.history['val_loss'])\n",
    "plt.title('model loss')\n",
    "plt.ylabel('loss')\n",
    "plt.xlabel('epoch-'+str(epoch))\n",
    "plt.legend(['loss', 'v-loss'], loc='upper left')\n",
    "plt.savefig('logs/model_loss-'+'epoch-'+str(epoch)+'-'+'batch_size-'+str(batch_size)+'.png')\n",
    "plt.show()\n"
   ]
  },
  {
   "cell_type": "code",
   "execution_count": null,
   "id": "6696c744",
   "metadata": {},
   "outputs": [],
   "source": []
  },
  {
   "cell_type": "code",
   "execution_count": 15,
   "id": "be122d91",
   "metadata": {},
   "outputs": [
    {
     "data": {
      "image/png": "[encoded data removed]",
      "text/plain": [
       "<Figure size 576x360 with 1 Axes>"
      ]
     },
     "metadata": {
      "needs_background": "light"
     },
     "output_type": "display_data"
    }
   ],
   "source": [
    "pd.DataFrame(history.history).plot(figsize=(8,5))\n",
    "plt.show()"
   ]
  },
  {
   "cell_type": "code",
   "execution_count": null,
   "id": "e3af1c98",
   "metadata": {},
   "outputs": [],
   "source": []
  },
  {
   "cell_type": "code",
   "execution_count": 20,
   "id": "80c7a806",
   "metadata": {},
   "outputs": [
    {
     "name": "stdout",
     "output_type": "stream",
     "text": [
      "Highest Accuraccy:  0.9524984359741211\n"
     ]
    }
   ],
   "source": [
    "print(\"Highest Accuraccy: \",max(history.history['accuracy']))"
   ]
  },
  {
   "cell_type": "code",
   "execution_count": 21,
   "id": "eee68e08",
   "metadata": {},
   "outputs": [
    {
     "name": "stdout",
     "output_type": "stream",
     "text": [
      "Lowest Accuraccy:  0.296113520860672\n"
     ]
    }
   ],
   "source": [
    "print(\"Lowest Accuraccy: \",min(history.history['accuracy']))"
   ]
  },
  {
   "cell_type": "code",
   "execution_count": 22,
   "id": "a20021dc",
   "metadata": {},
   "outputs": [],
   "source": [
    "import statistics"
   ]
  },
  {
   "cell_type": "code",
   "execution_count": 23,
   "id": "e17f67a5",
   "metadata": {},
   "outputs": [
    {
     "name": "stdout",
     "output_type": "stream",
     "text": [
      "Mean Accuraccy:  0.7840160372853279\n"
     ]
    }
   ],
   "source": [
    "print(\"Mean Accuraccy: \",avg(history.history['accuracy']))"
   ]
  },
  {
   "cell_type": "code",
   "execution_count": null,
   "id": "57eccfc2",
   "metadata": {},
   "outputs": [],
   "source": []
  },
  {
   "cell_type": "code",
   "execution_count": 24,
   "id": "305a996f",
   "metadata": {},
   "outputs": [
    {
     "name": "stdout",
     "output_type": "stream",
     "text": [
      "WARNING:tensorflow:From C:\\Users\\Istiyak\\AppData\\Local\\Temp\\ipykernel_16800\\2485148635.py:6: Sequential.predict_classes (from tensorflow.python.keras.engine.sequential) is deprecated and will be removed after 2021-01-01.\n",
      "Instructions for updating:\n",
      "Please use instead:* `np.argmax(model.predict(x), axis=-1)`,   if your model does multi-class classification   (e.g. if it uses a `softmax` last-layer activation).* `(model.predict(x) > 0.5).astype(\"int32\")`,   if your model does binary classification   (e.g. if it uses a `sigmoid` last-layer activation).\n"
     ]
    },
    {
     "data": {
      "image/png": "[encoded data removed]",
      "text/plain": [
       "<Figure size 432x288 with 1 Axes>"
      ]
     },
     "metadata": {
      "needs_background": "light"
     },
     "output_type": "display_data"
    }
   ],
   "source": [
    "import numpy as np\n",
    "from mlxtend.evaluate import confusion_matrix\n",
    "import matplotlib.pyplot as plt\n",
    "from mlxtend.plotting import plot_confusion_matrix\n",
    "\n",
    "rounded_predictions = model.predict_classes(x_test, batch_size=10, verbose=0)\n",
    "rounded_labels=np.argmax(y_test, axis=1)\n",
    "cm = confusion_matrix(rounded_labels, rounded_predictions)\n",
    "cm2 = confusion_matrix(y_target=rounded_labels, \n",
    "                      y_predicted=rounded_predictions, \n",
    "                      binary=False,positive_label=1\n",
    "                      )\n",
    "def cm_to_inch(value):\n",
    "    return value/2.54\n",
    "fig, ax = plot_confusion_matrix(conf_mat=cm2)\n",
    "plt.rcParams['figure.figsize'] = [10, 5]\n",
    "plt.rcParams['figure.dpi'] = 200\n",
    "plt.show()"
   ]
  },
  {
   "cell_type": "code",
   "execution_count": 25,
   "id": "1d3a5e5f",
   "metadata": {
    "scrolled": true
   },
   "outputs": [
    {
     "data": {
      "text/html": [
       "\n",
       "      <iframe id=\"tensorboard-frame-25ead9e8284aeabe\" width=\"100%\" height=\"800\" frameborder=\"0\">\n",
       "      </iframe>\n",
       "      <script>\n",
       "        (function() {\n",
       "          const frame = document.getElementById(\"tensorboard-frame-25ead9e8284aeabe\");\n",
       "          const url = new URL(\"/\", window.location);\n",
       "          const port = 6006;\n",
       "          if (port) {\n",
       "            url.port = port;\n",
       "          }\n",
       "          frame.src = url;\n",
       "        })();\n",
       "      </script>\n",
       "    "
      ],
      "text/plain": [
       "<IPython.core.display.HTML object>"
      ]
     },
     "metadata": {},
     "output_type": "display_data"
    }
   ],
   "source": [
    "%tensorboard --logdir logs/fit"
   ]
  },
  {
   "cell_type": "code",
   "execution_count": null,
   "id": "5b4f0371",
   "metadata": {},
   "outputs": [],
   "source": []
  }
 ],
 "metadata": {
  "kernelspec": {
   "display_name": "Python 3 (ipykernel)",
   "language": "python",
   "name": "python3"
  },
  "language_info": {
   "codemirror_mode": {
    "name": "ipython",
    "version": 3
   },
   "file_extension": ".py",
   "mimetype": "text/x-python",
   "name": "python",
   "nbconvert_exporter": "python",
   "pygments_lexer": "ipython3",
   "version": "3.8.0"
  }
 },
 "nbformat": 4,
 "nbformat_minor": 5
}
