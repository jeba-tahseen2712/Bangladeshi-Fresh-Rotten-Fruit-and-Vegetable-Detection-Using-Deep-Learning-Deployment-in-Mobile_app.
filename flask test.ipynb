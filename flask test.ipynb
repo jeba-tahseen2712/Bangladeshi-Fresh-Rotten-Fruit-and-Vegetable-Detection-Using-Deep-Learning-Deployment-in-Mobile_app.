{
 "cells": [
  {
   "cell_type": "code",
   "execution_count": 7,
   "id": "ae26dd3f",
   "metadata": {},
   "outputs": [],
   "source": [
    "import os\n",
    "import tensorflow as tf\n",
    "from tensorflow.keras.preprocessing import image\n",
    "import numpy as np\n",
    "import json"
   ]
  },
  {
   "cell_type": "code",
   "execution_count": 8,
   "id": "b2906a78",
   "metadata": {},
   "outputs": [],
   "source": [
    "model = tf.keras.models.load_model('models/new_train_model_epoch_100_batch_10')"
   ]
  },
  {
   "cell_type": "code",
   "execution_count": 9,
   "id": "081511c6",
   "metadata": {},
   "outputs": [],
   "source": [
    "f = open('dataset/category-images/valid-folder-map.json')\n",
    "data = json.load(f)\n",
    "classes = data['data']\n",
    "class_titles = []\n",
    "for cl in classes:\n",
    "    strng = cl['type'] + \" \"+ cl['name'] + \" \"+cl['genra']\n",
    "    class_titles.append(strng)\n",
    "Train_Height = 429\n",
    "Train_Width = 346\n",
    "path = 'dataset/test-data/1-a.png'\n",
    "img = image.load_img(path,target_size=(Train_Height,Train_Width,3))\n",
    "img = image.img_to_array(img)\n",
    "img = img/255.0\n",
    "img = img.reshape(1,Train_Height,Train_Width,3)\n",
    "y_prob = model.predict(img)\n",
    "top_predicts = np.argsort(y_prob[0])[:-4:-1]\n",
    "rs = class_titles[top_predicts[0]] + str(\" {:.2f}\".format(max(y_prob[0])*100))+'%' #+ str(top_predicts)"
   ]
  },
  {
   "cell_type": "code",
   "execution_count": 10,
   "id": "0dcb71e6",
   "metadata": {},
   "outputs": [
    {
     "name": "stdout",
     "output_type": "stream",
     "text": [
      "Rotten Banana Fruit 78.32%\n"
     ]
    }
   ],
   "source": [
    "print(rs)"
   ]
  },
  {
   "cell_type": "code",
   "execution_count": null,
   "id": "c49eb650",
   "metadata": {},
   "outputs": [],
   "source": []
  }
 ],
 "metadata": {
  "kernelspec": {
   "display_name": "Python 3 (ipykernel)",
   "language": "python",
   "name": "python3"
  },
  "language_info": {
   "codemirror_mode": {
    "name": "ipython",
    "version": 3
   },
   "file_extension": ".py",
   "mimetype": "text/x-python",
   "name": "python",
   "nbconvert_exporter": "python",
   "pygments_lexer": "ipython3",
   "version": "3.8.0"
  }
 },
 "nbformat": 4,
 "nbformat_minor": 5
}
