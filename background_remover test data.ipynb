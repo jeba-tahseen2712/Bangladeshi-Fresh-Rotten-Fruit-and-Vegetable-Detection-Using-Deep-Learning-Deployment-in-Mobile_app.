{
 "cells": [
  {
   "cell_type": "code",
   "execution_count": 1,
   "id": "5bffa4f6",
   "metadata": {},
   "outputs": [],
   "source": [
    "from rembg.bg import remove\n",
    "import numpy as np\n",
    "import io\n",
    "from PIL import Image\n",
    "import cv2\n",
    "from tqdm import tqdm"
   ]
  },
  {
   "cell_type": "code",
   "execution_count": 2,
   "id": "a8eff0e6",
   "metadata": {},
   "outputs": [],
   "source": [
    "t_direct = \"dataset/test-data/\""
   ]
  },
  {
   "cell_type": "code",
   "execution_count": 6,
   "id": "d23f21fd",
   "metadata": {},
   "outputs": [
    {
     "name": "stdout",
     "output_type": "stream",
     "text": [
      "Removing Background....\n"
     ]
    },
    {
     "name": "stderr",
     "output_type": "stream",
     "text": [
      "100%|██████████████████████████████████████████████████████████████████████████████████| 20/20 [00:29<00:00,  1.46s/it]"
     ]
    },
    {
     "name": "stdout",
     "output_type": "stream",
     "text": [
      "Background removed....\n"
     ]
    },
    {
     "name": "stderr",
     "output_type": "stream",
     "text": [
      "\n"
     ]
    }
   ],
   "source": [
    "print(\"Removing Background....\")\n",
    "for i in tqdm(range(1,21)):\n",
    "    path = t_direct+str(i)+\".png\"\n",
    "    f = np.fromfile(path)\n",
    "    result = remove(f)\n",
    "    img = Image.open(io.BytesIO(result)).convert(\"RGBA\")\n",
    "    img.save(path)\n",
    "    \n",
    "    img = cv2.imread(path)\n",
    "    gray = cv2.cvtColor(img, cv2.COLOR_BGR2GRAY)\n",
    "\n",
    "    # do adaptive threshold on gray image\n",
    "    thresh = cv2.adaptiveThreshold(gray, 255, cv2.ADAPTIVE_THRESH_MEAN_C, cv2.THRESH_BINARY, 101, 3)\n",
    "\n",
    "    # apply morphology open then close\n",
    "    kernel = cv2.getStructuringElement(cv2.MORPH_ELLIPSE, (1, 1))\n",
    "    blob = cv2.morphologyEx(thresh, cv2.MORPH_OPEN, kernel)\n",
    "    kernel = cv2.getStructuringElement(cv2.MORPH_ELLIPSE, (10, 10))\n",
    "    blob = cv2.morphologyEx(blob, cv2.MORPH_CLOSE, kernel)\n",
    "\n",
    "    # invert blob\n",
    "    blob = (255 - blob)\n",
    "\n",
    "    # Get contours\n",
    "    cnts, hierarchy = cv2.findContours(blob, cv2.RETR_TREE, cv2.CHAIN_APPROX_SIMPLE)\n",
    "\n",
    "    result1 = img.copy()\n",
    "    cv2.drawContours(result1, cnts, -1, (0, 0, 255), 1)\n",
    "    path = t_direct+str(i)+\"-a.png\"\n",
    "    cv2.imwrite(path, result1)\n",
    "\n",
    "print(\"Background removed....\")"
   ]
  },
  {
   "cell_type": "code",
   "execution_count": null,
   "id": "8a705d84",
   "metadata": {},
   "outputs": [],
   "source": []
  }
 ],
 "metadata": {
  "kernelspec": {
   "display_name": "Python 3 (ipykernel)",
   "language": "python",
   "name": "python3"
  },
  "language_info": {
   "codemirror_mode": {
    "name": "ipython",
    "version": 3
   },
   "file_extension": ".py",
   "mimetype": "text/x-python",
   "name": "python",
   "nbconvert_exporter": "python",
   "pygments_lexer": "ipython3",
   "version": "3.8.0"
  }
 },
 "nbformat": 4,
 "nbformat_minor": 5
}
